version https://git-lfs.github.com/spec/v1
oid sha256:c127e27567925b10ed36f4c9cff2a57d6ff6374b319068e70ab509af04a63e48
size 17525960
