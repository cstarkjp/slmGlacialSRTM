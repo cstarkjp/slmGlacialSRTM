version https://git-lfs.github.com/spec/v1
oid sha256:2af18a4104a7d28ea9f99b9003940ae09ecd0c0e31b91a232c8730f4c568f8e9
size 10673335
