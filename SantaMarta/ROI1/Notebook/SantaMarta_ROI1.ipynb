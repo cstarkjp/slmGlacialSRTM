version https://git-lfs.github.com/spec/v1
oid sha256:4ca541f63133fa879a8d2c1999dea4d1a40106861a45bceb624504e8c0dbc1ac
size 10524854
