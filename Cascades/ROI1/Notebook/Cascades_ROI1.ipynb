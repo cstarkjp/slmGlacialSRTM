version https://git-lfs.github.com/spec/v1
oid sha256:afa081f24b025120cce731e18111b117346abacbc9c778d8e84a9ba90ea0b868
size 16702352
