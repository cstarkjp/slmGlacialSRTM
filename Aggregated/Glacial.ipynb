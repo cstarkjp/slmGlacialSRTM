version https://git-lfs.github.com/spec/v1
oid sha256:54c7b309d4c84b598189fee1578f554eba020ad963a20a2236c02b8e20fd8dad
size 1741655
