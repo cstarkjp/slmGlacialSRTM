version https://git-lfs.github.com/spec/v1
oid sha256:dcfaa169ada0e5718eb10f90b7c5a6c4127fe0b0e6422e2be6469af7532f6c37
size 180923
