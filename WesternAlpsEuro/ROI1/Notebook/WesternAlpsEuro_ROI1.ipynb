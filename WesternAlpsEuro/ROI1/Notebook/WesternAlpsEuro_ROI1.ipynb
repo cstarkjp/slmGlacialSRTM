version https://git-lfs.github.com/spec/v1
oid sha256:9c583b45f088b1b1aa8669b4353d8159a5c3c4a39aaa9f780ebdbe10bf5b859c
size 12240941
