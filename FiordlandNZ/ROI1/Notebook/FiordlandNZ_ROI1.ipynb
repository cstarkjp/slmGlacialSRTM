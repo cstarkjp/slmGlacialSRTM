version https://git-lfs.github.com/spec/v1
oid sha256:701db1f2f3003239f395363bdf7552f0f018411d7f87ae9d0468c374e2b73700
size 7119899
