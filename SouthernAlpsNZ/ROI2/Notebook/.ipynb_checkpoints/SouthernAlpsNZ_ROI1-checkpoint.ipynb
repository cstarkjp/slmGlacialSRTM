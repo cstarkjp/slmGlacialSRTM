version https://git-lfs.github.com/spec/v1
oid sha256:33156b0bdaf80ffc799bd5b3dedd6be2a9fcae9303a55171d3658b48cea2e088
size 12385146
