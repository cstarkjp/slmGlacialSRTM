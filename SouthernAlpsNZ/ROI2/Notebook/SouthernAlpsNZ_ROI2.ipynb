version https://git-lfs.github.com/spec/v1
oid sha256:06c49ed1ce6db5603fb10094d1d4cfd9090b0cebdbf68b8fe430889f86ba4a28
size 9634507
